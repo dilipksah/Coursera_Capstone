{
 "cells": [
  {
   "cell_type": "markdown",
   "metadata": {},
   "source": [
    "# Applied Data Science Capstone Project\n",
    "*This notebook will be mainly used for Capstone project*"
   ]
  },
  {
   "cell_type": "code",
   "execution_count": null,
   "metadata": {},
   "outputs": [],
   "source": []
  },
  {
   "cell_type": "code",
   "execution_count": 1,
   "metadata": {},
   "outputs": [],
   "source": [
    "import pandas as pd\n",
    "import numpy as np"
   ]
  },
  {
   "cell_type": "code",
   "execution_count": 2,
   "metadata": {},
   "outputs": [
    {
     "name": "stdout",
     "output_type": "stream",
     "text": [
      "Hello Capstone Project Course!\n"
     ]
    }
   ],
   "source": [
    "print (\"Hello Capstone Project Course!\")"
   ]
  },
  {
   "cell_type": "code",
   "execution_count": 5,
   "metadata": {},
   "outputs": [
    {
     "name": "stdout",
     "output_type": "stream",
     "text": [
      "{'meta': {'code': 200, 'requestId': '5eb7a96cb1cac0001d081d1f'}, 'response': {'suggestedFilters': {'header': 'Tap to show:', 'filters': [{'name': '$-$$$$', 'key': 'price'}]}, 'warning': {'text': 'There aren\\'t a lot of results for \"coffee.\" Try something more general, reset your filters, or expand the search area.'}, 'suggestedRadius': 600, 'headerLocation': 'SoHo', 'headerFullLocation': 'SoHo, New York', 'headerLocationGranularity': 'neighborhood', 'query': 'coffee', 'totalResults': 57, 'suggestedBounds': {'ne': {'lat': 40.72445115622661, 'lng': -74.00383671516222}, 'sw': {'lat': 40.72175149644116, 'lng': -74.00111827835521}}, 'groups': [{'type': 'Recommended Places', 'name': 'recommended', 'items': [{'reasons': {'count': 0, 'items': [{'summary': 'This spot is popular', 'type': 'general', 'reasonName': 'globalInteractionReason'}]}, 'venue': {'id': '45e98bacf964a52080431fe3', 'name': 'MarieBelle', 'contact': {}, 'location': {'address': '484 Broome St', 'crossStreet': 'btwn W Broadway & Wooster St', 'lat': 40.72310132633388, 'lng': -74.00247749675871, 'labeledLatLngs': [{'label': 'display', 'lat': 40.72310132633388, 'lng': -74.00247749675871}], 'distance': 145, 'postalCode': '10013', 'cc': 'US', 'city': 'New York', 'state': 'NY', 'country': 'United States', 'formattedAddress': ['484 Broome St (btwn W Broadway & Wooster St)', 'New York, NY 10013', 'United States']}, 'categories': [{'id': '4bf58dd8d48988d1d0941735', 'name': 'Dessert Shop', 'pluralName': 'Dessert Shops', 'shortName': 'Desserts', 'icon': {'prefix': 'https://ss3.4sqi.net/img/categories_v2/food/dessert_', 'suffix': '.png'}, 'primary': True}], 'verified': True, 'stats': {'tipCount': 0, 'usersCount': 0, 'checkinsCount': 0, 'visitsCount': 0}, 'beenHere': {'count': 0, 'lastCheckinExpiredAt': 0, 'marked': False, 'unconfirmedCount': 0}, 'photos': {'count': 0, 'groups': []}, 'venuePage': {'id': '81170724'}, 'hereNow': {'count': 0, 'summary': 'Nobody here', 'groups': []}}, 'referralId': 'e-0-45e98bacf964a52080431fe3-0'}]}]}}\n"
     ]
    }
   ],
   "source": [
    "import json, requests\n",
    "url = 'https://api.foursquare.com/v2/venues/explore'\n",
    "\n",
    "params = dict(\n",
    "client_id='WU2UX203XESJA0HFY55SV5RWZ1BBSKLI32QJYVRJSYA5LFBP',\n",
    "client_secret='CRCZYN4G5KWRGZPK3BV4ELWGXR1BOY05S1S3U2RGZCMTTCOA',\n",
    "v='20180323',\n",
    "ll='40.7243,-74.0018',\n",
    "query='coffee',\n",
    "limit=1\n",
    ")\n",
    "resp = requests.get(url=url, params=params)\n",
    "data = json.loads(resp.text)\n",
    "print(data)"
   ]
  }
 ],
 "metadata": {
  "kernelspec": {
   "display_name": "Python 3",
   "language": "python",
   "name": "python3"
  },
  "language_info": {
   "codemirror_mode": {
    "name": "ipython",
    "version": 3
   },
   "file_extension": ".py",
   "mimetype": "text/x-python",
   "name": "python",
   "nbconvert_exporter": "python",
   "pygments_lexer": "ipython3",
   "version": "3.7.4"
  }
 },
 "nbformat": 4,
 "nbformat_minor": 4
}
